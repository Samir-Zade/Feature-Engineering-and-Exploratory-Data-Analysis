{
  "nbformat": 4,
  "nbformat_minor": 0,
  "metadata": {
    "colab": {
      "provenance": []
    },
    "kernelspec": {
      "name": "python3",
      "display_name": "Python 3"
    },
    "language_info": {
      "name": "python"
    }
  },
  "cells": [
    {
      "cell_type": "markdown",
      "source": [
        "# **Outliers**\n",
        "### **5 number summary**\n",
        "\n",
        "1. minimum value\n",
        "2. Q1 - 25 percentile\n",
        "3. Median\n",
        "4. Q3 - 75 percentile\n",
        "5. Maximum"
      ],
      "metadata": {
        "id": "qHYlTu6TLGPv"
      }
    },
    {
      "cell_type": "code",
      "execution_count": null,
      "metadata": {
        "id": "8EQwPPTNLB7P"
      },
      "outputs": [],
      "source": [
        "import numpy as np\n",
        "import seaborn as sns"
      ]
    },
    {
      "cell_type": "code",
      "source": [
        "list_marks = [42, 53, 23, 55, 5, 65, 49, 75, 34, 76, 54, 55, 84, 83, 93, 48, 49, 229, 444, 322]"
      ],
      "metadata": {
        "id": "4UUPZFrLLoHP"
      },
      "execution_count": null,
      "outputs": []
    },
    {
      "cell_type": "code",
      "source": [
        "np.percentile(list_marks, [0])"
      ],
      "metadata": {
        "colab": {
          "base_uri": "https://localhost:8080/"
        },
        "id": "mpeDguTLL1ZS",
        "outputId": "6562161a-4fd3-4bbd-b7b4-e64b715795d0"
      },
      "execution_count": null,
      "outputs": [
        {
          "output_type": "execute_result",
          "data": {
            "text/plain": [
              "array([5.])"
            ]
          },
          "metadata": {},
          "execution_count": 24
        }
      ]
    },
    {
      "cell_type": "code",
      "source": [
        "np.percentile(list_marks, [25])"
      ],
      "metadata": {
        "colab": {
          "base_uri": "https://localhost:8080/"
        },
        "id": "1dKnbROHMEoQ",
        "outputId": "9f2c68ea-9205-4a2f-a9ea-7b01463918f5"
      },
      "execution_count": null,
      "outputs": [
        {
          "output_type": "execute_result",
          "data": {
            "text/plain": [
              "array([48.75])"
            ]
          },
          "metadata": {},
          "execution_count": 25
        }
      ]
    },
    {
      "cell_type": "code",
      "source": [
        "np.percentile(list_marks, [50])"
      ],
      "metadata": {
        "colab": {
          "base_uri": "https://localhost:8080/"
        },
        "id": "3kyhJ1a8MLRY",
        "outputId": "19bde679-26dc-427a-cc40-7765995c1281"
      },
      "execution_count": null,
      "outputs": [
        {
          "output_type": "execute_result",
          "data": {
            "text/plain": [
              "array([55.])"
            ]
          },
          "metadata": {},
          "execution_count": 26
        }
      ]
    },
    {
      "cell_type": "code",
      "source": [
        "np.percentile(list_marks, [75])"
      ],
      "metadata": {
        "colab": {
          "base_uri": "https://localhost:8080/"
        },
        "id": "WNiSOzTxMNoC",
        "outputId": "2957072f-601e-48d3-b19b-01f4b986df8d"
      },
      "execution_count": null,
      "outputs": [
        {
          "output_type": "execute_result",
          "data": {
            "text/plain": [
              "array([83.25])"
            ]
          },
          "metadata": {},
          "execution_count": 27
        }
      ]
    },
    {
      "cell_type": "code",
      "source": [
        "np.percentile(list_marks, [100])"
      ],
      "metadata": {
        "colab": {
          "base_uri": "https://localhost:8080/"
        },
        "id": "zKHsZMyWMPMT",
        "outputId": "f2efa243-af4d-43c4-e5b5-c65419d1c2f5"
      },
      "execution_count": null,
      "outputs": [
        {
          "output_type": "execute_result",
          "data": {
            "text/plain": [
              "array([444.])"
            ]
          },
          "metadata": {},
          "execution_count": 28
        }
      ]
    },
    {
      "cell_type": "code",
      "source": [
        "##convert the list into (lower fence <-------------> higher fence)\n",
        "Q1 = np.percentile(list_marks, [25])\n",
        "print(Q1)"
      ],
      "metadata": {
        "colab": {
          "base_uri": "https://localhost:8080/"
        },
        "id": "9jCu4WfBMQvt",
        "outputId": "2b9845db-f0db-4149-fcab-8e8fb55d51fd"
      },
      "execution_count": null,
      "outputs": [
        {
          "output_type": "stream",
          "name": "stdout",
          "text": [
            "[48.75]\n"
          ]
        }
      ]
    },
    {
      "cell_type": "code",
      "source": [
        "#we have one function which do all the work by itself without formulas\n",
        "min, Q1, Q2, Q3, max = np.quantile(list_marks, [0, 0.25, 0.5, 0.75, 1.0])"
      ],
      "metadata": {
        "id": "eK0FCEbkMYlx"
      },
      "execution_count": null,
      "outputs": []
    },
    {
      "cell_type": "code",
      "source": [
        "min"
      ],
      "metadata": {
        "colab": {
          "base_uri": "https://localhost:8080/"
        },
        "id": "sTn0po-7MwZV",
        "outputId": "c858073f-69fc-4c36-d9c5-2a9ede8b4469"
      },
      "execution_count": null,
      "outputs": [
        {
          "output_type": "execute_result",
          "data": {
            "text/plain": [
              "5.0"
            ]
          },
          "metadata": {},
          "execution_count": 31
        }
      ]
    },
    {
      "cell_type": "code",
      "source": [
        "max"
      ],
      "metadata": {
        "colab": {
          "base_uri": "https://localhost:8080/"
        },
        "id": "JdJJ6a9OMyhc",
        "outputId": "829ff08a-b03d-49ab-f7e5-a43580f02f2e"
      },
      "execution_count": null,
      "outputs": [
        {
          "output_type": "execute_result",
          "data": {
            "text/plain": [
              "444.0"
            ]
          },
          "metadata": {},
          "execution_count": 32
        }
      ]
    },
    {
      "cell_type": "code",
      "source": [
        "IQR = Q3 - Q1\n",
        "print(IQR)"
      ],
      "metadata": {
        "colab": {
          "base_uri": "https://localhost:8080/"
        },
        "id": "Qbl8usXyMzS0",
        "outputId": "bae51e79-5c72-4d98-ee74-a1be45ad8670"
      },
      "execution_count": null,
      "outputs": [
        {
          "output_type": "stream",
          "name": "stdout",
          "text": [
            "34.5\n"
          ]
        }
      ]
    },
    {
      "cell_type": "code",
      "source": [
        "lower_fence = Q1 - 1.5 * IQR\n",
        "higher_fence = Q3 + 1.5 * IQR"
      ],
      "metadata": {
        "id": "gHtpzKcCM6Ui"
      },
      "execution_count": null,
      "outputs": []
    },
    {
      "cell_type": "code",
      "source": [
        "lower_fence, higher_fence"
      ],
      "metadata": {
        "colab": {
          "base_uri": "https://localhost:8080/"
        },
        "id": "6XZaYfGuNG1U",
        "outputId": "0e7ecda1-092d-4b33-a105-e1d441fe1509"
      },
      "execution_count": null,
      "outputs": [
        {
          "output_type": "execute_result",
          "data": {
            "text/plain": [
              "(-3.0, 135.0)"
            ]
          },
          "metadata": {},
          "execution_count": 35
        }
      ]
    },
    {
      "cell_type": "code",
      "source": [
        "outliers = []\n",
        "for i in list_marks:\n",
        "  if i >= lower_fence and i <= higher_fence:\n",
        "    print(f\"{i} - this element is not an outlier\")\n",
        "  else:\n",
        "    outliers.append(i)"
      ],
      "metadata": {
        "colab": {
          "base_uri": "https://localhost:8080/"
        },
        "id": "WFJz3phgNJUd",
        "outputId": "b4c0c174-c179-41ec-925f-3327412fce69"
      },
      "execution_count": null,
      "outputs": [
        {
          "output_type": "stream",
          "name": "stdout",
          "text": [
            "42 - this element is not an outlier\n",
            "53 - this element is not an outlier\n",
            "23 - this element is not an outlier\n",
            "55 - this element is not an outlier\n",
            "5 - this element is not an outlier\n",
            "65 - this element is not an outlier\n",
            "49 - this element is not an outlier\n",
            "75 - this element is not an outlier\n",
            "34 - this element is not an outlier\n",
            "76 - this element is not an outlier\n",
            "54 - this element is not an outlier\n",
            "55 - this element is not an outlier\n",
            "84 - this element is not an outlier\n",
            "83 - this element is not an outlier\n",
            "93 - this element is not an outlier\n",
            "48 - this element is not an outlier\n",
            "49 - this element is not an outlier\n"
          ]
        }
      ]
    },
    {
      "cell_type": "code",
      "source": [
        "outliers"
      ],
      "metadata": {
        "colab": {
          "base_uri": "https://localhost:8080/"
        },
        "id": "kuF3p-VaNmX-",
        "outputId": "9b0de01d-c126-4de3-ad4e-3e206232fc3c"
      },
      "execution_count": null,
      "outputs": [
        {
          "output_type": "execute_result",
          "data": {
            "text/plain": [
              "[229, 444, 322]"
            ]
          },
          "metadata": {},
          "execution_count": 37
        }
      ]
    },
    {
      "cell_type": "code",
      "source": [
        "#direct way to find outliers by visualization\n",
        "sns.boxplot(list_marks)"
      ],
      "metadata": {
        "colab": {
          "base_uri": "https://localhost:8080/",
          "height": 428
        },
        "id": "JnIvuUGINpRS",
        "outputId": "b458f4c5-9a39-4041-a5cb-9ee36a0289db"
      },
      "execution_count": null,
      "outputs": [
        {
          "output_type": "execute_result",
          "data": {
            "text/plain": [
              "<Axes: >"
            ]
          },
          "metadata": {},
          "execution_count": 38
        },
        {
          "output_type": "display_data",
          "data": {
            "text/plain": [
              "<Figure size 640x480 with 1 Axes>"
            ],
            "image/png": "[encoded data removed]"
          },
          "metadata": {}
        }
      ]
    },
    {
      "cell_type": "code",
      "source": [
        "list_marks = [42, 53, 23, 55, 5, 65, 49, 75, 34, 76, 54, 55, 84, 83, 93, 48, 49]"
      ],
      "metadata": {
        "id": "zfx12PADN0Cy"
      },
      "execution_count": null,
      "outputs": []
    },
    {
      "cell_type": "code",
      "source": [
        "sns.boxplot(list_marks)"
      ],
      "metadata": {
        "id": "yXMHXhhqOMt1",
        "outputId": "bfbc8b30-59d4-47f0-a1b1-a2aff354353c",
        "colab": {
          "base_uri": "https://localhost:8080/",
          "height": 428
        }
      },
      "execution_count": null,
      "outputs": [
        {
          "output_type": "execute_result",
          "data": {
            "text/plain": [
              "<Axes: >"
            ]
          },
          "metadata": {},
          "execution_count": 40
        },
        {
          "output_type": "display_data",
          "data": {
            "text/plain": [
              "<Figure size 640x480 with 1 Axes>"
            ],
            "image/png": "[encoded data removed]"
          },
          "metadata": {}
        }
      ]
    }
  ]
}